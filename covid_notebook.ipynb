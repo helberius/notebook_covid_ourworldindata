{
 "cells": [
  {
   "cell_type": "code",
   "execution_count": 8,
   "metadata": {},
   "outputs": [],
   "source": [
    "'''\n",
    "Notebook Created by Helbert Arenas\n",
    "the purpose of the notebook is to explore data i found in \n",
    "https://ourworldindata.org/grapher/full-list-total-tests-for-covid-19\n",
    "The date has been collated from official sources by ourworldindata\n",
    "The notebook downloads the data source from git\n",
    "Then:\n",
    "1) it stores the data into a pandas dataframe\n",
    "2) Proceeds to clean the date column\n",
    "3) Creates a timestamp for each record\n",
    "4) Creates a list of the geographic features for which the data exist, and prints the result\n",
    "5) Allows the user to create a list of countries to compare and identify the variable that the user wants to compare.\n",
    "6) Display a graphic presenting the evolution of the selected variable for the selected countries.\n",
    "'''\n",
    "import pandas as pd\n",
    "import psycopg2\n",
    "import datetime\n",
    "import numpy as np\n",
    "import plotly.graph_objects as go\n",
    "import requests\n",
    "import io\n",
    "import time\n",
    "\n",
    "def clean_date_format(st_date):\n",
    "    st_date = st_date.replace('-','/')\n",
    "    return st_date\n",
    "\n",
    "url=\"https://raw.githubusercontent.com/owid/covid-19-data/master/public/data/owid-covid-data.csv\"\n",
    "s=requests.get(url).content\n",
    "df_covid=pd.read_csv(io.StringIO(s.decode('utf-8')))\n",
    "\n",
    "date_to_timestamp = lambda x: time.mktime(datetime.datetime.strptime(x, \"%Y/%m/%d\").timetuple())\n",
    "l_clean_date_format = lambda x: clean_date_format(x)\n",
    "\n",
    "df_covid['date_2'] = df_covid['date'].apply(l_clean_date_format)\n",
    "df_covid['timestamp'] = df_covid['date_2'].apply(date_to_timestamp)\n",
    "\n",
    "\n",
    "\n"
   ]
  },
  {
   "cell_type": "code",
   "execution_count": 9,
   "metadata": {},
   "outputs": [
    {
     "data": {
      "text/plain": [
       "(15756, 18)"
      ]
     },
     "execution_count": 9,
     "metadata": {},
     "output_type": "execute_result"
    }
   ],
   "source": [
    "# how many records exist in my dataset\n",
    "df_covid.shape"
   ]
  },
  {
   "cell_type": "code",
   "execution_count": 10,
   "metadata": {},
   "outputs": [
    {
     "data": {
      "text/html": [
       "<div>\n",
       "<style scoped>\n",
       "    .dataframe tbody tr th:only-of-type {\n",
       "        vertical-align: middle;\n",
       "    }\n",
       "\n",
       "    .dataframe tbody tr th {\n",
       "        vertical-align: top;\n",
       "    }\n",
       "\n",
       "    .dataframe thead th {\n",
       "        text-align: right;\n",
       "    }\n",
       "</style>\n",
       "<table border=\"1\" class=\"dataframe\">\n",
       "  <thead>\n",
       "    <tr style=\"text-align: right;\">\n",
       "      <th></th>\n",
       "      <th>iso_code</th>\n",
       "      <th>location</th>\n",
       "      <th>date</th>\n",
       "      <th>total_cases</th>\n",
       "      <th>new_cases</th>\n",
       "      <th>total_deaths</th>\n",
       "      <th>new_deaths</th>\n",
       "      <th>total_cases_per_million</th>\n",
       "      <th>new_cases_per_million</th>\n",
       "      <th>total_deaths_per_million</th>\n",
       "      <th>new_deaths_per_million</th>\n",
       "      <th>total_tests</th>\n",
       "      <th>new_tests</th>\n",
       "      <th>total_tests_per_thousand</th>\n",
       "      <th>new_tests_per_thousand</th>\n",
       "      <th>tests_units</th>\n",
       "      <th>date_2</th>\n",
       "      <th>timestamp</th>\n",
       "    </tr>\n",
       "  </thead>\n",
       "  <tbody>\n",
       "    <tr>\n",
       "      <th>0</th>\n",
       "      <td>ABW</td>\n",
       "      <td>Aruba</td>\n",
       "      <td>2020-03-13</td>\n",
       "      <td>2</td>\n",
       "      <td>2</td>\n",
       "      <td>0</td>\n",
       "      <td>0</td>\n",
       "      <td>18.733</td>\n",
       "      <td>18.733</td>\n",
       "      <td>0.0</td>\n",
       "      <td>0.0</td>\n",
       "      <td>NaN</td>\n",
       "      <td>NaN</td>\n",
       "      <td>NaN</td>\n",
       "      <td>NaN</td>\n",
       "      <td>NaN</td>\n",
       "      <td>2020/03/13</td>\n",
       "      <td>1.584054e+09</td>\n",
       "    </tr>\n",
       "    <tr>\n",
       "      <th>1</th>\n",
       "      <td>ABW</td>\n",
       "      <td>Aruba</td>\n",
       "      <td>2020-03-20</td>\n",
       "      <td>4</td>\n",
       "      <td>2</td>\n",
       "      <td>0</td>\n",
       "      <td>0</td>\n",
       "      <td>37.465</td>\n",
       "      <td>18.733</td>\n",
       "      <td>0.0</td>\n",
       "      <td>0.0</td>\n",
       "      <td>NaN</td>\n",
       "      <td>NaN</td>\n",
       "      <td>NaN</td>\n",
       "      <td>NaN</td>\n",
       "      <td>NaN</td>\n",
       "      <td>2020/03/20</td>\n",
       "      <td>1.584659e+09</td>\n",
       "    </tr>\n",
       "    <tr>\n",
       "      <th>2</th>\n",
       "      <td>ABW</td>\n",
       "      <td>Aruba</td>\n",
       "      <td>2020-03-24</td>\n",
       "      <td>12</td>\n",
       "      <td>8</td>\n",
       "      <td>0</td>\n",
       "      <td>0</td>\n",
       "      <td>112.395</td>\n",
       "      <td>74.930</td>\n",
       "      <td>0.0</td>\n",
       "      <td>0.0</td>\n",
       "      <td>NaN</td>\n",
       "      <td>NaN</td>\n",
       "      <td>NaN</td>\n",
       "      <td>NaN</td>\n",
       "      <td>NaN</td>\n",
       "      <td>2020/03/24</td>\n",
       "      <td>1.585004e+09</td>\n",
       "    </tr>\n",
       "    <tr>\n",
       "      <th>3</th>\n",
       "      <td>ABW</td>\n",
       "      <td>Aruba</td>\n",
       "      <td>2020-03-25</td>\n",
       "      <td>17</td>\n",
       "      <td>5</td>\n",
       "      <td>0</td>\n",
       "      <td>0</td>\n",
       "      <td>159.227</td>\n",
       "      <td>46.831</td>\n",
       "      <td>0.0</td>\n",
       "      <td>0.0</td>\n",
       "      <td>NaN</td>\n",
       "      <td>NaN</td>\n",
       "      <td>NaN</td>\n",
       "      <td>NaN</td>\n",
       "      <td>NaN</td>\n",
       "      <td>2020/03/25</td>\n",
       "      <td>1.585091e+09</td>\n",
       "    </tr>\n",
       "    <tr>\n",
       "      <th>4</th>\n",
       "      <td>ABW</td>\n",
       "      <td>Aruba</td>\n",
       "      <td>2020-03-26</td>\n",
       "      <td>19</td>\n",
       "      <td>2</td>\n",
       "      <td>0</td>\n",
       "      <td>0</td>\n",
       "      <td>177.959</td>\n",
       "      <td>18.733</td>\n",
       "      <td>0.0</td>\n",
       "      <td>0.0</td>\n",
       "      <td>NaN</td>\n",
       "      <td>NaN</td>\n",
       "      <td>NaN</td>\n",
       "      <td>NaN</td>\n",
       "      <td>NaN</td>\n",
       "      <td>2020/03/26</td>\n",
       "      <td>1.585177e+09</td>\n",
       "    </tr>\n",
       "  </tbody>\n",
       "</table>\n",
       "</div>"
      ],
      "text/plain": [
       "  iso_code location        date  total_cases  new_cases  total_deaths  \\\n",
       "0      ABW    Aruba  2020-03-13            2          2             0   \n",
       "1      ABW    Aruba  2020-03-20            4          2             0   \n",
       "2      ABW    Aruba  2020-03-24           12          8             0   \n",
       "3      ABW    Aruba  2020-03-25           17          5             0   \n",
       "4      ABW    Aruba  2020-03-26           19          2             0   \n",
       "\n",
       "   new_deaths  total_cases_per_million  new_cases_per_million  \\\n",
       "0           0                   18.733                 18.733   \n",
       "1           0                   37.465                 18.733   \n",
       "2           0                  112.395                 74.930   \n",
       "3           0                  159.227                 46.831   \n",
       "4           0                  177.959                 18.733   \n",
       "\n",
       "   total_deaths_per_million  new_deaths_per_million  total_tests  new_tests  \\\n",
       "0                       0.0                     0.0          NaN        NaN   \n",
       "1                       0.0                     0.0          NaN        NaN   \n",
       "2                       0.0                     0.0          NaN        NaN   \n",
       "3                       0.0                     0.0          NaN        NaN   \n",
       "4                       0.0                     0.0          NaN        NaN   \n",
       "\n",
       "   total_tests_per_thousand  new_tests_per_thousand tests_units      date_2  \\\n",
       "0                       NaN                     NaN         NaN  2020/03/13   \n",
       "1                       NaN                     NaN         NaN  2020/03/20   \n",
       "2                       NaN                     NaN         NaN  2020/03/24   \n",
       "3                       NaN                     NaN         NaN  2020/03/25   \n",
       "4                       NaN                     NaN         NaN  2020/03/26   \n",
       "\n",
       "      timestamp  \n",
       "0  1.584054e+09  \n",
       "1  1.584659e+09  \n",
       "2  1.585004e+09  \n",
       "3  1.585091e+09  \n",
       "4  1.585177e+09  "
      ]
     },
     "execution_count": 10,
     "metadata": {},
     "output_type": "execute_result"
    }
   ],
   "source": [
    "# how does it look the data\n",
    "df_covid.head(5)"
   ]
  },
  {
   "cell_type": "code",
   "execution_count": 11,
   "metadata": {
    "scrolled": false
   },
   "outputs": [
    {
     "name": "stdout",
     "output_type": "stream",
     "text": [
      "Aruba\n",
      "Afghanistan\n",
      "Angola\n",
      "Anguilla\n",
      "Albania\n",
      "Andorra\n",
      "United Arab Emirates\n",
      "Argentina\n",
      "Armenia\n",
      "Antigua and Barbuda\n",
      "Australia\n",
      "Austria\n",
      "Azerbaijan\n",
      "Burundi\n",
      "Belgium\n",
      "Benin\n",
      "Bonaire Sint Eustatius and Saba\n",
      "Burkina Faso\n",
      "Bangladesh\n",
      "Bulgaria\n",
      "Bahrain\n",
      "Bahamas\n",
      "Bosnia and Herzegovina\n",
      "Belarus\n",
      "Belize\n",
      "Bermuda\n",
      "Bolivia\n",
      "Brazil\n",
      "Barbados\n",
      "Brunei\n",
      "Bhutan\n",
      "Botswana\n",
      "Central African Republic\n",
      "Canada\n",
      "Switzerland\n",
      "Chile\n",
      "China\n",
      "Cote d'Ivoire\n",
      "Cameroon\n",
      "Democratic Republic of Congo\n",
      "Congo\n",
      "Colombia\n",
      "Comoros\n",
      "Cape Verde\n",
      "Costa Rica\n",
      "Cuba\n",
      "Curacao\n",
      "Cayman Islands\n",
      "Cyprus\n",
      "Czech Republic\n",
      "Germany\n",
      "Djibouti\n",
      "Dominica\n",
      "Denmark\n",
      "Dominican Republic\n",
      "Algeria\n",
      "Ecuador\n",
      "Egypt\n",
      "Eritrea\n",
      "Western Sahara\n",
      "Spain\n",
      "Estonia\n",
      "Ethiopia\n",
      "Finland\n",
      "Fiji\n",
      "Falkland Islands\n",
      "France\n",
      "Faeroe Islands\n",
      "Gabon\n",
      "United Kingdom\n",
      "Georgia\n",
      "Guernsey\n",
      "Ghana\n",
      "Gibraltar\n",
      "Guinea\n",
      "Gambia\n",
      "Guinea-Bissau\n",
      "Equatorial Guinea\n",
      "Greece\n",
      "Grenada\n",
      "Greenland\n",
      "Guatemala\n",
      "Guam\n",
      "Guyana\n",
      "Hong Kong\n",
      "Honduras\n",
      "Croatia\n",
      "Haiti\n",
      "Hungary\n",
      "Indonesia\n",
      "Isle of Man\n",
      "India\n",
      "Ireland\n",
      "Iran\n",
      "Iraq\n",
      "Iceland\n",
      "Israel\n",
      "Italy\n",
      "Jamaica\n",
      "Jersey\n",
      "Jordan\n",
      "Japan\n",
      "Kazakhstan\n",
      "Kenya\n",
      "Kyrgyzstan\n",
      "Cambodia\n",
      "Saint Kitts and Nevis\n",
      "South Korea\n",
      "Kuwait\n",
      "Laos\n",
      "Lebanon\n",
      "Liberia\n",
      "Libya\n",
      "Saint Lucia\n",
      "Liechtenstein\n",
      "Sri Lanka\n",
      "Lithuania\n",
      "Luxembourg\n",
      "Latvia\n",
      "Morocco\n",
      "Monaco\n",
      "Moldova\n",
      "Madagascar\n",
      "Maldives\n",
      "Mexico\n",
      "Macedonia\n",
      "Mali\n",
      "Malta\n",
      "Myanmar\n",
      "Montenegro\n",
      "Mongolia\n",
      "Northern Mariana Islands\n",
      "Mozambique\n",
      "Mauritania\n",
      "Montserrat\n",
      "Mauritius\n",
      "Malawi\n",
      "Malaysia\n",
      "Namibia\n",
      "New Caledonia\n",
      "Niger\n",
      "Nigeria\n",
      "Nicaragua\n",
      "Netherlands\n",
      "Norway\n",
      "Nepal\n",
      "New Zealand\n",
      "Oman\n",
      "Pakistan\n",
      "Panama\n",
      "Peru\n",
      "Philippines\n",
      "Papua New Guinea\n",
      "Poland\n",
      "Puerto Rico\n",
      "Portugal\n",
      "Paraguay\n",
      "Palestine\n",
      "French Polynesia\n",
      "Qatar\n",
      "Kosovo\n",
      "Romania\n",
      "Russia\n",
      "Rwanda\n",
      "Saudi Arabia\n",
      "Sudan\n",
      "Senegal\n",
      "Singapore\n",
      "Sierra Leone\n",
      "El Salvador\n",
      "San Marino\n",
      "Somalia\n",
      "Serbia\n",
      "South Sudan\n",
      "Sao Tome and Principe\n",
      "Suriname\n",
      "Slovakia\n",
      "Slovenia\n",
      "Sweden\n",
      "Swaziland\n",
      "Sint Maarten (Dutch part)\n",
      "Seychelles\n",
      "Syria\n",
      "Turks and Caicos Islands\n",
      "Chad\n",
      "Togo\n",
      "Thailand\n",
      "Tajikistan\n",
      "Timor\n",
      "Trinidad and Tobago\n",
      "Tunisia\n",
      "Turkey\n",
      "Taiwan\n",
      "Tanzania\n",
      "Uganda\n",
      "Ukraine\n",
      "Uruguay\n",
      "United States\n",
      "Uzbekistan\n",
      "Vatican\n",
      "Saint Vincent and the Grenadines\n",
      "Venezuela\n",
      "British Virgin Islands\n",
      "United States Virgin Islands\n",
      "Vietnam\n",
      "Yemen\n",
      "South Africa\n",
      "Zambia\n",
      "Zimbabwe\n",
      "World\n",
      "International\n"
     ]
    }
   ],
   "source": [
    "# create a list of countries\n",
    "ls_location = df_covid.location.unique().tolist()\n",
    "for i in ls_location:\n",
    "    print(i)"
   ]
  },
  {
   "cell_type": "code",
   "execution_count": 13,
   "metadata": {},
   "outputs": [
    {
     "data": {
      "application/vnd.plotly.v1+json": {
       "config": {
        "plotlyServerURL": "https://plot.ly"
       },
       "data": [
        {
         "connectgaps": false,
         "marker": {
          "color": "black"
         },
         "mode": "markers",
         "name": "Chile",
         "opacity": 0.6,
         "type": "scatter",
         "x": [
          "2020/03/04",
          "2020/03/05",
          "2020/03/06",
          "2020/03/07",
          "2020/03/09",
          "2020/03/10",
          "2020/03/11",
          "2020/03/12",
          "2020/03/13",
          "2020/03/14",
          "2020/03/15",
          "2020/03/16",
          "2020/03/17",
          "2020/03/18",
          "2020/03/19",
          "2020/03/20",
          "2020/03/21",
          "2020/03/22",
          "2020/03/23",
          "2020/03/24",
          "2020/03/25",
          "2020/03/26",
          "2020/03/27",
          "2020/03/28",
          "2020/03/29",
          "2020/03/30",
          "2020/03/31",
          "2020/04/01",
          "2020/04/02",
          "2020/04/03",
          "2020/04/04",
          "2020/04/05",
          "2020/04/06",
          "2020/04/07",
          "2020/04/08",
          "2020/04/09",
          "2020/04/10",
          "2020/04/11",
          "2020/04/12",
          "2020/04/13",
          "2020/04/14",
          "2020/04/15",
          "2020/04/16",
          "2020/04/17",
          "2020/04/18",
          "2020/04/19",
          "2020/04/20",
          "2020/04/21",
          "2020/04/22",
          "2020/04/23",
          "2020/04/24",
          "2020/04/25",
          "2020/04/26",
          "2020/04/27",
          "2020/04/28",
          "2020/04/29",
          "2020/04/30",
          "2020/05/01",
          "2020/05/02",
          "2020/05/03",
          "2020/05/04",
          "2020/05/05",
          "2020/05/06",
          "2020/05/07"
         ],
         "y": [
          null,
          null,
          null,
          null,
          null,
          null,
          null,
          null,
          null,
          null,
          null,
          null,
          null,
          null,
          null,
          null,
          null,
          null,
          null,
          null,
          null,
          null,
          null,
          null,
          null,
          null,
          null,
          1.99,
          2.13,
          2.309,
          2.543,
          2.718,
          2.87,
          2.988,
          3.159,
          3.576,
          3.8080000000000003,
          3.995,
          4.303999999999999,
          4.448,
          4.593,
          4.806,
          5.149,
          5.434,
          5.696000000000001,
          5.945,
          6.216,
          6.401,
          6.734,
          7.07,
          7.442,
          7.806,
          8.158999999999999,
          8.434,
          8.692,
          9.03,
          9.443,
          9.91,
          10.431,
          10.788,
          11.202,
          11.618,
          12.142000000000001,
          null
         ]
        },
        {
         "connectgaps": false,
         "marker": {
          "color": "blue"
         },
         "mode": "markers",
         "name": "Peru",
         "opacity": 0.6,
         "type": "scatter",
         "x": [
          "2020/03/04",
          "2020/03/06",
          "2020/03/07",
          "2020/03/08",
          "2020/03/09",
          "2020/03/10",
          "2020/03/11",
          "2020/03/12",
          "2020/03/13",
          "2020/03/14",
          "2020/03/15",
          "2020/03/16",
          "2020/03/17",
          "2020/03/18",
          "2020/03/19",
          "2020/03/20",
          "2020/03/21",
          "2020/03/22",
          "2020/03/23",
          "2020/03/24",
          "2020/03/25",
          "2020/03/26",
          "2020/03/27",
          "2020/03/28",
          "2020/03/29",
          "2020/03/30",
          "2020/03/31",
          "2020/04/01",
          "2020/04/02",
          "2020/04/03",
          "2020/04/04",
          "2020/04/05",
          "2020/04/06",
          "2020/04/07",
          "2020/04/08",
          "2020/04/09",
          "2020/04/10",
          "2020/04/11",
          "2020/04/12",
          "2020/04/13",
          "2020/04/14",
          "2020/04/15",
          "2020/04/16",
          "2020/04/17",
          "2020/04/18",
          "2020/04/19",
          "2020/04/20",
          "2020/04/21",
          "2020/04/22",
          "2020/04/23",
          "2020/04/24",
          "2020/04/25",
          "2020/04/26",
          "2020/04/27",
          "2020/04/28",
          "2020/04/29",
          "2020/04/30",
          "2020/05/01",
          "2020/05/02",
          "2020/05/03",
          "2020/05/04",
          "2020/05/05",
          "2020/05/06",
          "2020/05/07"
         ],
         "y": [
          0.003,
          0.005,
          0.006999999999999999,
          0.008,
          0.01,
          0.01,
          0.02,
          null,
          null,
          0.037000000000000005,
          0.055,
          0.07,
          0.085,
          0.09300000000000001,
          0.11599999999999999,
          0.13,
          0.157,
          0.188,
          0.213,
          0.22699999999999998,
          0.244,
          0.28,
          0.305,
          0.33,
          0.384,
          0.408,
          0.439,
          0.473,
          0.501,
          0.526,
          0.541,
          0.589,
          0.619,
          0.654,
          1.2009999999999998,
          1.47,
          1.719,
          1.993,
          2.32,
          2.642,
          3.1,
          3.318,
          3.6839999999999997,
          null,
          4.122,
          4.36,
          4.489,
          4.723,
          5.167999999999999,
          5.617999999999999,
          6.016,
          6.617999999999999,
          7.059,
          null,
          7.266,
          8.116,
          9.652000000000001,
          10.388,
          null,
          11.376,
          11.692,
          12.331,
          null,
          null
         ]
        },
        {
         "connectgaps": false,
         "marker": {
          "color": "red"
         },
         "mode": "markers",
         "name": "Colombia",
         "opacity": 0.6,
         "type": "scatter",
         "x": [
          "2020/03/05",
          "2020/03/06",
          "2020/03/07",
          "2020/03/08",
          "2020/03/09",
          "2020/03/10",
          "2020/03/11",
          "2020/03/12",
          "2020/03/13",
          "2020/03/14",
          "2020/03/15",
          "2020/03/16",
          "2020/03/17",
          "2020/03/18",
          "2020/03/19",
          "2020/03/20",
          "2020/03/21",
          "2020/03/22",
          "2020/03/23",
          "2020/03/24",
          "2020/03/25",
          "2020/03/26",
          "2020/03/27",
          "2020/03/28",
          "2020/03/29",
          "2020/03/30",
          "2020/03/31",
          "2020/04/01",
          "2020/04/02",
          "2020/04/03",
          "2020/04/04",
          "2020/04/05",
          "2020/04/06",
          "2020/04/07",
          "2020/04/08",
          "2020/04/09",
          "2020/04/10",
          "2020/04/11",
          "2020/04/12",
          "2020/04/13",
          "2020/04/14",
          "2020/04/15",
          "2020/04/16",
          "2020/04/17",
          "2020/04/18",
          "2020/04/19",
          "2020/04/20",
          "2020/04/21",
          "2020/04/22",
          "2020/04/23",
          "2020/04/24",
          "2020/04/25",
          "2020/04/26",
          "2020/04/27",
          "2020/04/28",
          "2020/04/29",
          "2020/04/30",
          "2020/05/01",
          "2020/05/02",
          "2020/05/03",
          "2020/05/04",
          "2020/05/05",
          "2020/05/06",
          "2020/05/07"
         ],
         "y": [
          0.012,
          0.015,
          0.016,
          0.016,
          0.017,
          0.018000000000000002,
          0.022000000000000002,
          0.027000000000000003,
          0.034,
          0.046,
          0.062,
          0.071,
          0.077,
          0.092,
          0.105,
          0.113,
          0.11900000000000001,
          0.136,
          0.14300000000000002,
          0.158,
          0.17300000000000001,
          0.18100000000000002,
          0.18600000000000003,
          0.213,
          0.242,
          0.272,
          0.35100000000000003,
          0.39799999999999996,
          0.42100000000000004,
          0.447,
          0.47100000000000003,
          0.502,
          0.55,
          0.604,
          0.665,
          0.6920000000000001,
          0.7440000000000001,
          0.7979999999999999,
          0.821,
          0.846,
          0.8909999999999999,
          0.9540000000000001,
          1.022,
          1.091,
          1.158,
          1.232,
          1.2790000000000001,
          1.3430000000000002,
          1.403,
          1.4709999999999999,
          1.5330000000000001,
          1.5930000000000002,
          1.712,
          1.786,
          1.869,
          1.9680000000000002,
          2.057,
          2.141,
          2.252,
          2.335,
          2.418,
          2.498,
          null,
          null
         ]
        },
        {
         "connectgaps": false,
         "marker": {
          "color": "green"
         },
         "mode": "markers",
         "name": "France",
         "opacity": 0.6,
         "type": "scatter",
         "x": [
          "2019/12/31",
          "2020/01/01",
          "2020/01/02",
          "2020/01/03",
          "2020/01/04",
          "2020/01/05",
          "2020/01/06",
          "2020/01/07",
          "2020/01/08",
          "2020/01/09",
          "2020/01/10",
          "2020/01/11",
          "2020/01/12",
          "2020/01/13",
          "2020/01/14",
          "2020/01/15",
          "2020/01/16",
          "2020/01/17",
          "2020/01/18",
          "2020/01/19",
          "2020/01/20",
          "2020/01/21",
          "2020/01/22",
          "2020/01/23",
          "2020/01/24",
          "2020/01/25",
          "2020/01/26",
          "2020/01/27",
          "2020/01/28",
          "2020/01/29",
          "2020/01/30",
          "2020/01/31",
          "2020/02/01",
          "2020/02/02",
          "2020/02/03",
          "2020/02/04",
          "2020/02/05",
          "2020/02/06",
          "2020/02/07",
          "2020/02/08",
          "2020/02/09",
          "2020/02/10",
          "2020/02/11",
          "2020/02/12",
          "2020/02/13",
          "2020/02/14",
          "2020/02/15",
          "2020/02/16",
          "2020/02/17",
          "2020/02/18",
          "2020/02/19",
          "2020/02/20",
          "2020/02/21",
          "2020/02/22",
          "2020/02/23",
          "2020/02/25",
          "2020/02/26",
          "2020/02/27",
          "2020/02/28",
          "2020/02/29",
          "2020/03/01",
          "2020/03/02",
          "2020/03/03",
          "2020/03/04",
          "2020/03/05",
          "2020/03/06",
          "2020/03/07",
          "2020/03/08",
          "2020/03/09",
          "2020/03/10",
          "2020/03/11",
          "2020/03/12",
          "2020/03/13",
          "2020/03/14",
          "2020/03/15",
          "2020/03/16",
          "2020/03/17",
          "2020/03/18",
          "2020/03/19",
          "2020/03/20",
          "2020/03/21",
          "2020/03/22",
          "2020/03/23",
          "2020/03/24",
          "2020/03/25",
          "2020/03/26",
          "2020/03/27",
          "2020/03/28",
          "2020/03/29",
          "2020/03/30",
          "2020/03/31",
          "2020/04/01",
          "2020/04/02",
          "2020/04/03",
          "2020/04/04",
          "2020/04/05",
          "2020/04/06",
          "2020/04/07",
          "2020/04/08",
          "2020/04/09",
          "2020/04/10",
          "2020/04/11",
          "2020/04/12",
          "2020/04/13",
          "2020/04/14",
          "2020/04/15",
          "2020/04/16",
          "2020/04/17",
          "2020/04/18",
          "2020/04/19",
          "2020/04/20",
          "2020/04/21",
          "2020/04/22",
          "2020/04/23",
          "2020/04/24",
          "2020/04/25",
          "2020/04/26",
          "2020/04/27",
          "2020/04/28",
          "2020/04/29",
          "2020/04/30",
          "2020/05/01",
          "2020/05/02",
          "2020/05/03",
          "2020/05/04",
          "2020/05/05",
          "2020/05/06",
          "2020/05/07"
         ],
         "y": [
          null,
          null,
          null,
          null,
          null,
          null,
          null,
          null,
          null,
          null,
          null,
          null,
          null,
          null,
          null,
          null,
          null,
          null,
          null,
          null,
          null,
          null,
          null,
          null,
          null,
          null,
          null,
          null,
          null,
          null,
          null,
          null,
          null,
          null,
          null,
          null,
          null,
          null,
          null,
          null,
          null,
          null,
          null,
          null,
          null,
          null,
          null,
          null,
          null,
          null,
          null,
          null,
          null,
          null,
          null,
          0.002,
          0.006,
          0.013000000000000001,
          0.02,
          0.028999999999999998,
          0.038,
          0.044000000000000004,
          0.055,
          0.07400000000000001,
          0.09300000000000001,
          0.11800000000000001,
          0.145,
          0.17,
          0.19399999999999998,
          0.23,
          null,
          null,
          null,
          null,
          0.563,
          null,
          null,
          null,
          null,
          null,
          null,
          null,
          null,
          1.6480000000000001,
          null,
          null,
          null,
          null,
          null,
          null,
          3.4360000000000004,
          null,
          null,
          null,
          null,
          null,
          null,
          5.114,
          null,
          null,
          null,
          null,
          null,
          null,
          7.103,
          null,
          null,
          null,
          null,
          null,
          null,
          9.118,
          null,
          null,
          null,
          null,
          null,
          null,
          11.100999999999999,
          null,
          null,
          null,
          null,
          null,
          null,
          null,
          null,
          null
         ]
        },
        {
         "connectgaps": false,
         "marker": {
          "color": "crimson"
         },
         "mode": "markers",
         "name": "Italy",
         "opacity": 0.6,
         "type": "scatter",
         "x": [
          "2019/12/31",
          "2020/01/01",
          "2020/01/02",
          "2020/01/03",
          "2020/01/04",
          "2020/01/05",
          "2020/01/06",
          "2020/01/07",
          "2020/01/08",
          "2020/01/09",
          "2020/01/10",
          "2020/01/11",
          "2020/01/12",
          "2020/01/13",
          "2020/01/14",
          "2020/01/15",
          "2020/01/16",
          "2020/01/17",
          "2020/01/18",
          "2020/01/19",
          "2020/01/20",
          "2020/01/21",
          "2020/01/22",
          "2020/01/23",
          "2020/01/24",
          "2020/01/25",
          "2020/01/26",
          "2020/01/27",
          "2020/01/28",
          "2020/01/29",
          "2020/01/30",
          "2020/01/31",
          "2020/02/01",
          "2020/02/02",
          "2020/02/03",
          "2020/02/04",
          "2020/02/05",
          "2020/02/06",
          "2020/02/07",
          "2020/02/08",
          "2020/02/09",
          "2020/02/10",
          "2020/02/11",
          "2020/02/12",
          "2020/02/13",
          "2020/02/14",
          "2020/02/15",
          "2020/02/16",
          "2020/02/17",
          "2020/02/18",
          "2020/02/19",
          "2020/02/20",
          "2020/02/21",
          "2020/02/22",
          "2020/02/23",
          "2020/02/24",
          "2020/02/25",
          "2020/02/26",
          "2020/02/27",
          "2020/02/28",
          "2020/02/29",
          "2020/03/01",
          "2020/03/02",
          "2020/03/03",
          "2020/03/04",
          "2020/03/05",
          "2020/03/06",
          "2020/03/07",
          "2020/03/08",
          "2020/03/09",
          "2020/03/10",
          "2020/03/11",
          "2020/03/12",
          "2020/03/13",
          "2020/03/14",
          "2020/03/15",
          "2020/03/16",
          "2020/03/17",
          "2020/03/18",
          "2020/03/19",
          "2020/03/20",
          "2020/03/21",
          "2020/03/22",
          "2020/03/23",
          "2020/03/24",
          "2020/03/25",
          "2020/03/26",
          "2020/03/27",
          "2020/03/28",
          "2020/03/29",
          "2020/03/30",
          "2020/03/31",
          "2020/04/01",
          "2020/04/02",
          "2020/04/03",
          "2020/04/04",
          "2020/04/05",
          "2020/04/06",
          "2020/04/07",
          "2020/04/08",
          "2020/04/09",
          "2020/04/10",
          "2020/04/11",
          "2020/04/12",
          "2020/04/13",
          "2020/04/14",
          "2020/04/15",
          "2020/04/16",
          "2020/04/17",
          "2020/04/18",
          "2020/04/19",
          "2020/04/20",
          "2020/04/21",
          "2020/04/22",
          "2020/04/23",
          "2020/04/24",
          "2020/04/25",
          "2020/04/26",
          "2020/04/27",
          "2020/04/28",
          "2020/04/29",
          "2020/04/30",
          "2020/05/01",
          "2020/05/02",
          "2020/05/03",
          "2020/05/04",
          "2020/05/05",
          "2020/05/06",
          "2020/05/07"
         ],
         "y": [
          null,
          null,
          null,
          null,
          null,
          null,
          null,
          null,
          null,
          null,
          null,
          null,
          null,
          null,
          null,
          null,
          null,
          null,
          null,
          null,
          null,
          null,
          null,
          null,
          null,
          null,
          null,
          null,
          null,
          null,
          null,
          null,
          null,
          null,
          null,
          null,
          null,
          null,
          null,
          null,
          null,
          null,
          null,
          null,
          null,
          null,
          null,
          null,
          null,
          null,
          null,
          null,
          null,
          null,
          null,
          0.07200000000000001,
          0.14300000000000002,
          0.159,
          0.19899999999999998,
          0.26,
          0.309,
          0.349,
          0.386,
          0.428,
          0.493,
          0.535,
          0.601,
          0.696,
          0.826,
          0.89,
          1.005,
          1.21,
          1.423,
          1.6119999999999999,
          1.806,
          2.066,
          2.282,
          2.459,
          2.738,
          3.023,
          3.4219999999999997,
          3.8569999999999998,
          4.274,
          4.556,
          4.912,
          5.3660000000000005,
          5.972,
          6.518,
          7.104,
          7.5089999999999995,
          7.895,
          8.385,
          8.955,
          9.613,
          10.252,
          10.87,
          11.436,
          11.937000000000001,
          12.495,
          13.349,
          14.114,
          14.999,
          15.935,
          16.708,
          17.315,
          17.758,
          18.480999999999998,
          19.49,
          20.576999999999998,
          21.598000000000003,
          22.436,
          23.122,
          23.985,
          25.028000000000002,
          26.131,
          27.164,
          28.245,
          29.070999999999998,
          29.6,
          30.546999999999997,
          31.603,
          32.735,
          33.961999999999996,
          34.879,
          35.622,
          36.244,
          37.158,
          38.221,
          null
         ]
        },
        {
         "connectgaps": false,
         "marker": {
          "color": "black"
         },
         "mode": "markers",
         "name": "Spain",
         "opacity": 0.6,
         "type": "scatter",
         "x": [
          "2019/12/31",
          "2020/01/01",
          "2020/01/02",
          "2020/01/03",
          "2020/01/04",
          "2020/01/05",
          "2020/01/06",
          "2020/01/07",
          "2020/01/08",
          "2020/01/09",
          "2020/01/10",
          "2020/01/11",
          "2020/01/12",
          "2020/01/13",
          "2020/01/14",
          "2020/01/15",
          "2020/01/16",
          "2020/01/17",
          "2020/01/18",
          "2020/01/19",
          "2020/01/20",
          "2020/01/21",
          "2020/01/22",
          "2020/01/23",
          "2020/01/24",
          "2020/01/25",
          "2020/01/26",
          "2020/01/27",
          "2020/01/28",
          "2020/01/29",
          "2020/01/30",
          "2020/01/31",
          "2020/02/01",
          "2020/02/02",
          "2020/02/03",
          "2020/02/04",
          "2020/02/05",
          "2020/02/06",
          "2020/02/07",
          "2020/02/08",
          "2020/02/09",
          "2020/02/10",
          "2020/02/11",
          "2020/02/12",
          "2020/02/13",
          "2020/02/14",
          "2020/02/15",
          "2020/02/16",
          "2020/02/17",
          "2020/02/18",
          "2020/02/19",
          "2020/02/20",
          "2020/02/21",
          "2020/02/22",
          "2020/02/23",
          "2020/02/24",
          "2020/02/25",
          "2020/02/26",
          "2020/02/27",
          "2020/02/28",
          "2020/02/29",
          "2020/03/01",
          "2020/03/02",
          "2020/03/03",
          "2020/03/04",
          "2020/03/05",
          "2020/03/06",
          "2020/03/07",
          "2020/03/08",
          "2020/03/09",
          "2020/03/10",
          "2020/03/11",
          "2020/03/12",
          "2020/03/13",
          "2020/03/14",
          "2020/03/15",
          "2020/03/16",
          "2020/03/17",
          "2020/03/18",
          "2020/03/19",
          "2020/03/20",
          "2020/03/21",
          "2020/03/22",
          "2020/03/23",
          "2020/03/24",
          "2020/03/25",
          "2020/03/26",
          "2020/03/27",
          "2020/03/28",
          "2020/03/29",
          "2020/03/30",
          "2020/03/31",
          "2020/04/01",
          "2020/04/02",
          "2020/04/03",
          "2020/04/04",
          "2020/04/05",
          "2020/04/06",
          "2020/04/07",
          "2020/04/08",
          "2020/04/09",
          "2020/04/10",
          "2020/04/11",
          "2020/04/12",
          "2020/04/13",
          "2020/04/14",
          "2020/04/15",
          "2020/04/16",
          "2020/04/17",
          "2020/04/18",
          "2020/04/19",
          "2020/04/20",
          "2020/04/21",
          "2020/04/22",
          "2020/04/23",
          "2020/04/24",
          "2020/04/25",
          "2020/04/26",
          "2020/04/27",
          "2020/04/28",
          "2020/04/29",
          "2020/04/30",
          "2020/05/01",
          "2020/05/02",
          "2020/05/03",
          "2020/05/04",
          "2020/05/05",
          "2020/05/06"
         ],
         "y": [
          null,
          null,
          null,
          null,
          null,
          null,
          null,
          null,
          null,
          null,
          null,
          null,
          null,
          null,
          null,
          null,
          null,
          null,
          null,
          null,
          null,
          null,
          null,
          null,
          null,
          null,
          null,
          null,
          null,
          null,
          null,
          null,
          null,
          null,
          null,
          null,
          null,
          null,
          null,
          null,
          null,
          null,
          null,
          null,
          null,
          null,
          null,
          null,
          null,
          null,
          null,
          null,
          null,
          null,
          null,
          null,
          null,
          null,
          null,
          null,
          null,
          null,
          null,
          null,
          null,
          null,
          null,
          null,
          null,
          null,
          null,
          null,
          null,
          null,
          null,
          null,
          null,
          null,
          null,
          null,
          null,
          null,
          null,
          null,
          null,
          null,
          null,
          null,
          null,
          null,
          null,
          null,
          null,
          null,
          null,
          null,
          null,
          null,
          null,
          null,
          null,
          null,
          null,
          null,
          19.896,
          null,
          null,
          null,
          null,
          null,
          null,
          null,
          null,
          null,
          22.148000000000003,
          null,
          null,
          null,
          null,
          null,
          null,
          28.898000000000003,
          null,
          null,
          null,
          null,
          null,
          null
         ]
        }
       ],
       "layout": {
        "template": {
         "data": {
          "bar": [
           {
            "error_x": {
             "color": "#2a3f5f"
            },
            "error_y": {
             "color": "#2a3f5f"
            },
            "marker": {
             "line": {
              "color": "#E5ECF6",
              "width": 0.5
             }
            },
            "type": "bar"
           }
          ],
          "barpolar": [
           {
            "marker": {
             "line": {
              "color": "#E5ECF6",
              "width": 0.5
             }
            },
            "type": "barpolar"
           }
          ],
          "carpet": [
           {
            "aaxis": {
             "endlinecolor": "#2a3f5f",
             "gridcolor": "white",
             "linecolor": "white",
             "minorgridcolor": "white",
             "startlinecolor": "#2a3f5f"
            },
            "baxis": {
             "endlinecolor": "#2a3f5f",
             "gridcolor": "white",
             "linecolor": "white",
             "minorgridcolor": "white",
             "startlinecolor": "#2a3f5f"
            },
            "type": "carpet"
           }
          ],
          "choropleth": [
           {
            "colorbar": {
             "outlinewidth": 0,
             "ticks": ""
            },
            "type": "choropleth"
           }
          ],
          "contour": [
           {
            "colorbar": {
             "outlinewidth": 0,
             "ticks": ""
            },
            "colorscale": [
             [
              0,
              "#0d0887"
             ],
             [
              0.1111111111111111,
              "#46039f"
             ],
             [
              0.2222222222222222,
              "#7201a8"
             ],
             [
              0.3333333333333333,
              "#9c179e"
             ],
             [
              0.4444444444444444,
              "#bd3786"
             ],
             [
              0.5555555555555556,
              "#d8576b"
             ],
             [
              0.6666666666666666,
              "#ed7953"
             ],
             [
              0.7777777777777778,
              "#fb9f3a"
             ],
             [
              0.8888888888888888,
              "#fdca26"
             ],
             [
              1,
              "#f0f921"
             ]
            ],
            "type": "contour"
           }
          ],
          "contourcarpet": [
           {
            "colorbar": {
             "outlinewidth": 0,
             "ticks": ""
            },
            "type": "contourcarpet"
           }
          ],
          "heatmap": [
           {
            "colorbar": {
             "outlinewidth": 0,
             "ticks": ""
            },
            "colorscale": [
             [
              0,
              "#0d0887"
             ],
             [
              0.1111111111111111,
              "#46039f"
             ],
             [
              0.2222222222222222,
              "#7201a8"
             ],
             [
              0.3333333333333333,
              "#9c179e"
             ],
             [
              0.4444444444444444,
              "#bd3786"
             ],
             [
              0.5555555555555556,
              "#d8576b"
             ],
             [
              0.6666666666666666,
              "#ed7953"
             ],
             [
              0.7777777777777778,
              "#fb9f3a"
             ],
             [
              0.8888888888888888,
              "#fdca26"
             ],
             [
              1,
              "#f0f921"
             ]
            ],
            "type": "heatmap"
           }
          ],
          "heatmapgl": [
           {
            "colorbar": {
             "outlinewidth": 0,
             "ticks": ""
            },
            "colorscale": [
             [
              0,
              "#0d0887"
             ],
             [
              0.1111111111111111,
              "#46039f"
             ],
             [
              0.2222222222222222,
              "#7201a8"
             ],
             [
              0.3333333333333333,
              "#9c179e"
             ],
             [
              0.4444444444444444,
              "#bd3786"
             ],
             [
              0.5555555555555556,
              "#d8576b"
             ],
             [
              0.6666666666666666,
              "#ed7953"
             ],
             [
              0.7777777777777778,
              "#fb9f3a"
             ],
             [
              0.8888888888888888,
              "#fdca26"
             ],
             [
              1,
              "#f0f921"
             ]
            ],
            "type": "heatmapgl"
           }
          ],
          "histogram": [
           {
            "marker": {
             "colorbar": {
              "outlinewidth": 0,
              "ticks": ""
             }
            },
            "type": "histogram"
           }
          ],
          "histogram2d": [
           {
            "colorbar": {
             "outlinewidth": 0,
             "ticks": ""
            },
            "colorscale": [
             [
              0,
              "#0d0887"
             ],
             [
              0.1111111111111111,
              "#46039f"
             ],
             [
              0.2222222222222222,
              "#7201a8"
             ],
             [
              0.3333333333333333,
              "#9c179e"
             ],
             [
              0.4444444444444444,
              "#bd3786"
             ],
             [
              0.5555555555555556,
              "#d8576b"
             ],
             [
              0.6666666666666666,
              "#ed7953"
             ],
             [
              0.7777777777777778,
              "#fb9f3a"
             ],
             [
              0.8888888888888888,
              "#fdca26"
             ],
             [
              1,
              "#f0f921"
             ]
            ],
            "type": "histogram2d"
           }
          ],
          "histogram2dcontour": [
           {
            "colorbar": {
             "outlinewidth": 0,
             "ticks": ""
            },
            "colorscale": [
             [
              0,
              "#0d0887"
             ],
             [
              0.1111111111111111,
              "#46039f"
             ],
             [
              0.2222222222222222,
              "#7201a8"
             ],
             [
              0.3333333333333333,
              "#9c179e"
             ],
             [
              0.4444444444444444,
              "#bd3786"
             ],
             [
              0.5555555555555556,
              "#d8576b"
             ],
             [
              0.6666666666666666,
              "#ed7953"
             ],
             [
              0.7777777777777778,
              "#fb9f3a"
             ],
             [
              0.8888888888888888,
              "#fdca26"
             ],
             [
              1,
              "#f0f921"
             ]
            ],
            "type": "histogram2dcontour"
           }
          ],
          "mesh3d": [
           {
            "colorbar": {
             "outlinewidth": 0,
             "ticks": ""
            },
            "type": "mesh3d"
           }
          ],
          "parcoords": [
           {
            "line": {
             "colorbar": {
              "outlinewidth": 0,
              "ticks": ""
             }
            },
            "type": "parcoords"
           }
          ],
          "pie": [
           {
            "automargin": true,
            "type": "pie"
           }
          ],
          "scatter": [
           {
            "marker": {
             "colorbar": {
              "outlinewidth": 0,
              "ticks": ""
             }
            },
            "type": "scatter"
           }
          ],
          "scatter3d": [
           {
            "line": {
             "colorbar": {
              "outlinewidth": 0,
              "ticks": ""
             }
            },
            "marker": {
             "colorbar": {
              "outlinewidth": 0,
              "ticks": ""
             }
            },
            "type": "scatter3d"
           }
          ],
          "scattercarpet": [
           {
            "marker": {
             "colorbar": {
              "outlinewidth": 0,
              "ticks": ""
             }
            },
            "type": "scattercarpet"
           }
          ],
          "scattergeo": [
           {
            "marker": {
             "colorbar": {
              "outlinewidth": 0,
              "ticks": ""
             }
            },
            "type": "scattergeo"
           }
          ],
          "scattergl": [
           {
            "marker": {
             "colorbar": {
              "outlinewidth": 0,
              "ticks": ""
             }
            },
            "type": "scattergl"
           }
          ],
          "scattermapbox": [
           {
            "marker": {
             "colorbar": {
              "outlinewidth": 0,
              "ticks": ""
             }
            },
            "type": "scattermapbox"
           }
          ],
          "scatterpolar": [
           {
            "marker": {
             "colorbar": {
              "outlinewidth": 0,
              "ticks": ""
             }
            },
            "type": "scatterpolar"
           }
          ],
          "scatterpolargl": [
           {
            "marker": {
             "colorbar": {
              "outlinewidth": 0,
              "ticks": ""
             }
            },
            "type": "scatterpolargl"
           }
          ],
          "scatterternary": [
           {
            "marker": {
             "colorbar": {
              "outlinewidth": 0,
              "ticks": ""
             }
            },
            "type": "scatterternary"
           }
          ],
          "surface": [
           {
            "colorbar": {
             "outlinewidth": 0,
             "ticks": ""
            },
            "colorscale": [
             [
              0,
              "#0d0887"
             ],
             [
              0.1111111111111111,
              "#46039f"
             ],
             [
              0.2222222222222222,
              "#7201a8"
             ],
             [
              0.3333333333333333,
              "#9c179e"
             ],
             [
              0.4444444444444444,
              "#bd3786"
             ],
             [
              0.5555555555555556,
              "#d8576b"
             ],
             [
              0.6666666666666666,
              "#ed7953"
             ],
             [
              0.7777777777777778,
              "#fb9f3a"
             ],
             [
              0.8888888888888888,
              "#fdca26"
             ],
             [
              1,
              "#f0f921"
             ]
            ],
            "type": "surface"
           }
          ],
          "table": [
           {
            "cells": {
             "fill": {
              "color": "#EBF0F8"
             },
             "line": {
              "color": "white"
             }
            },
            "header": {
             "fill": {
              "color": "#C8D4E3"
             },
             "line": {
              "color": "white"
             }
            },
            "type": "table"
           }
          ]
         },
         "layout": {
          "annotationdefaults": {
           "arrowcolor": "#2a3f5f",
           "arrowhead": 0,
           "arrowwidth": 1
          },
          "coloraxis": {
           "colorbar": {
            "outlinewidth": 0,
            "ticks": ""
           }
          },
          "colorscale": {
           "diverging": [
            [
             0,
             "#8e0152"
            ],
            [
             0.1,
             "#c51b7d"
            ],
            [
             0.2,
             "#de77ae"
            ],
            [
             0.3,
             "#f1b6da"
            ],
            [
             0.4,
             "#fde0ef"
            ],
            [
             0.5,
             "#f7f7f7"
            ],
            [
             0.6,
             "#e6f5d0"
            ],
            [
             0.7,
             "#b8e186"
            ],
            [
             0.8,
             "#7fbc41"
            ],
            [
             0.9,
             "#4d9221"
            ],
            [
             1,
             "#276419"
            ]
           ],
           "sequential": [
            [
             0,
             "#0d0887"
            ],
            [
             0.1111111111111111,
             "#46039f"
            ],
            [
             0.2222222222222222,
             "#7201a8"
            ],
            [
             0.3333333333333333,
             "#9c179e"
            ],
            [
             0.4444444444444444,
             "#bd3786"
            ],
            [
             0.5555555555555556,
             "#d8576b"
            ],
            [
             0.6666666666666666,
             "#ed7953"
            ],
            [
             0.7777777777777778,
             "#fb9f3a"
            ],
            [
             0.8888888888888888,
             "#fdca26"
            ],
            [
             1,
             "#f0f921"
            ]
           ],
           "sequentialminus": [
            [
             0,
             "#0d0887"
            ],
            [
             0.1111111111111111,
             "#46039f"
            ],
            [
             0.2222222222222222,
             "#7201a8"
            ],
            [
             0.3333333333333333,
             "#9c179e"
            ],
            [
             0.4444444444444444,
             "#bd3786"
            ],
            [
             0.5555555555555556,
             "#d8576b"
            ],
            [
             0.6666666666666666,
             "#ed7953"
            ],
            [
             0.7777777777777778,
             "#fb9f3a"
            ],
            [
             0.8888888888888888,
             "#fdca26"
            ],
            [
             1,
             "#f0f921"
            ]
           ]
          },
          "colorway": [
           "#636efa",
           "#EF553B",
           "#00cc96",
           "#ab63fa",
           "#FFA15A",
           "#19d3f3",
           "#FF6692",
           "#B6E880",
           "#FF97FF",
           "#FECB52"
          ],
          "font": {
           "color": "#2a3f5f"
          },
          "geo": {
           "bgcolor": "white",
           "lakecolor": "white",
           "landcolor": "#E5ECF6",
           "showlakes": true,
           "showland": true,
           "subunitcolor": "white"
          },
          "hoverlabel": {
           "align": "left"
          },
          "hovermode": "closest",
          "mapbox": {
           "style": "light"
          },
          "paper_bgcolor": "white",
          "plot_bgcolor": "#E5ECF6",
          "polar": {
           "angularaxis": {
            "gridcolor": "white",
            "linecolor": "white",
            "ticks": ""
           },
           "bgcolor": "#E5ECF6",
           "radialaxis": {
            "gridcolor": "white",
            "linecolor": "white",
            "ticks": ""
           }
          },
          "scene": {
           "xaxis": {
            "backgroundcolor": "#E5ECF6",
            "gridcolor": "white",
            "gridwidth": 2,
            "linecolor": "white",
            "showbackground": true,
            "ticks": "",
            "zerolinecolor": "white"
           },
           "yaxis": {
            "backgroundcolor": "#E5ECF6",
            "gridcolor": "white",
            "gridwidth": 2,
            "linecolor": "white",
            "showbackground": true,
            "ticks": "",
            "zerolinecolor": "white"
           },
           "zaxis": {
            "backgroundcolor": "#E5ECF6",
            "gridcolor": "white",
            "gridwidth": 2,
            "linecolor": "white",
            "showbackground": true,
            "ticks": "",
            "zerolinecolor": "white"
           }
          },
          "shapedefaults": {
           "line": {
            "color": "#2a3f5f"
           }
          },
          "ternary": {
           "aaxis": {
            "gridcolor": "white",
            "linecolor": "white",
            "ticks": ""
           },
           "baxis": {
            "gridcolor": "white",
            "linecolor": "white",
            "ticks": ""
           },
           "bgcolor": "#E5ECF6",
           "caxis": {
            "gridcolor": "white",
            "linecolor": "white",
            "ticks": ""
           }
          },
          "title": {
           "x": 0.05
          },
          "xaxis": {
           "automargin": true,
           "gridcolor": "white",
           "linecolor": "white",
           "ticks": "",
           "title": {
            "standoff": 15
           },
           "zerolinecolor": "white",
           "zerolinewidth": 2
          },
          "yaxis": {
           "automargin": true,
           "gridcolor": "white",
           "linecolor": "white",
           "ticks": "",
           "title": {
            "standoff": 15
           },
           "zerolinecolor": "white",
           "zerolinewidth": 2
          }
         }
        },
        "title": {
         "text": "total_tests_per_thousand"
        }
       }
      },
      "text/html": [
       "<div>\n",
       "        \n",
       "        \n",
       "            <div id=\"2737e3bf-af5e-4888-b173-867c5af36bc7\" class=\"plotly-graph-div\" style=\"height:525px; width:100%;\"></div>\n",
       "            <script type=\"text/javascript\">\n",
       "                require([\"plotly\"], function(Plotly) {\n",
       "                    window.PLOTLYENV=window.PLOTLYENV || {};\n",
       "                    \n",
       "                if (document.getElementById(\"2737e3bf-af5e-4888-b173-867c5af36bc7\")) {\n",
       "                    Plotly.newPlot(\n",
       "                        '2737e3bf-af5e-4888-b173-867c5af36bc7',\n",
       "                        [{\"connectgaps\": false, \"marker\": {\"color\": \"black\"}, \"mode\": \"markers\", \"name\": \"Chile\", \"opacity\": 0.6, \"type\": \"scatter\", \"x\": [\"2020/03/04\", \"2020/03/05\", \"2020/03/06\", \"2020/03/07\", \"2020/03/09\", \"2020/03/10\", \"2020/03/11\", \"2020/03/12\", \"2020/03/13\", \"2020/03/14\", \"2020/03/15\", \"2020/03/16\", \"2020/03/17\", \"2020/03/18\", \"2020/03/19\", \"2020/03/20\", \"2020/03/21\", \"2020/03/22\", \"2020/03/23\", \"2020/03/24\", \"2020/03/25\", \"2020/03/26\", \"2020/03/27\", \"2020/03/28\", \"2020/03/29\", \"2020/03/30\", \"2020/03/31\", \"2020/04/01\", \"2020/04/02\", \"2020/04/03\", \"2020/04/04\", \"2020/04/05\", \"2020/04/06\", \"2020/04/07\", \"2020/04/08\", \"2020/04/09\", \"2020/04/10\", \"2020/04/11\", \"2020/04/12\", \"2020/04/13\", \"2020/04/14\", \"2020/04/15\", \"2020/04/16\", \"2020/04/17\", \"2020/04/18\", \"2020/04/19\", \"2020/04/20\", \"2020/04/21\", \"2020/04/22\", \"2020/04/23\", \"2020/04/24\", \"2020/04/25\", \"2020/04/26\", \"2020/04/27\", \"2020/04/28\", \"2020/04/29\", \"2020/04/30\", \"2020/05/01\", \"2020/05/02\", \"2020/05/03\", \"2020/05/04\", \"2020/05/05\", \"2020/05/06\", \"2020/05/07\"], \"y\": [null, null, null, null, null, null, null, null, null, null, null, null, null, null, null, null, null, null, null, null, null, null, null, null, null, null, null, 1.99, 2.13, 2.309, 2.543, 2.718, 2.87, 2.988, 3.159, 3.576, 3.8080000000000003, 3.995, 4.303999999999999, 4.448, 4.593, 4.806, 5.149, 5.434, 5.696000000000001, 5.945, 6.216, 6.401, 6.734, 7.07, 7.442, 7.806, 8.158999999999999, 8.434, 8.692, 9.03, 9.443, 9.91, 10.431, 10.788, 11.202, 11.618, 12.142000000000001, null]}, {\"connectgaps\": false, \"marker\": {\"color\": \"blue\"}, \"mode\": \"markers\", \"name\": \"Peru\", \"opacity\": 0.6, \"type\": \"scatter\", \"x\": [\"2020/03/04\", \"2020/03/06\", \"2020/03/07\", \"2020/03/08\", \"2020/03/09\", \"2020/03/10\", \"2020/03/11\", \"2020/03/12\", \"2020/03/13\", \"2020/03/14\", \"2020/03/15\", \"2020/03/16\", \"2020/03/17\", \"2020/03/18\", \"2020/03/19\", \"2020/03/20\", \"2020/03/21\", \"2020/03/22\", \"2020/03/23\", \"2020/03/24\", \"2020/03/25\", \"2020/03/26\", \"2020/03/27\", \"2020/03/28\", \"2020/03/29\", \"2020/03/30\", \"2020/03/31\", \"2020/04/01\", \"2020/04/02\", \"2020/04/03\", \"2020/04/04\", \"2020/04/05\", \"2020/04/06\", \"2020/04/07\", \"2020/04/08\", \"2020/04/09\", \"2020/04/10\", \"2020/04/11\", \"2020/04/12\", \"2020/04/13\", \"2020/04/14\", \"2020/04/15\", \"2020/04/16\", \"2020/04/17\", \"2020/04/18\", \"2020/04/19\", \"2020/04/20\", \"2020/04/21\", \"2020/04/22\", \"2020/04/23\", \"2020/04/24\", \"2020/04/25\", \"2020/04/26\", \"2020/04/27\", \"2020/04/28\", \"2020/04/29\", \"2020/04/30\", \"2020/05/01\", \"2020/05/02\", \"2020/05/03\", \"2020/05/04\", \"2020/05/05\", \"2020/05/06\", \"2020/05/07\"], \"y\": [0.003, 0.005, 0.006999999999999999, 0.008, 0.01, 0.01, 0.02, null, null, 0.037000000000000005, 0.055, 0.07, 0.085, 0.09300000000000001, 0.11599999999999999, 0.13, 0.157, 0.188, 0.213, 0.22699999999999998, 0.244, 0.28, 0.305, 0.33, 0.384, 0.408, 0.439, 0.473, 0.501, 0.526, 0.541, 0.589, 0.619, 0.654, 1.2009999999999998, 1.47, 1.719, 1.993, 2.32, 2.642, 3.1, 3.318, 3.6839999999999997, null, 4.122, 4.36, 4.489, 4.723, 5.167999999999999, 5.617999999999999, 6.016, 6.617999999999999, 7.059, null, 7.266, 8.116, 9.652000000000001, 10.388, null, 11.376, 11.692, 12.331, null, null]}, {\"connectgaps\": false, \"marker\": {\"color\": \"red\"}, \"mode\": \"markers\", \"name\": \"Colombia\", \"opacity\": 0.6, \"type\": \"scatter\", \"x\": [\"2020/03/05\", \"2020/03/06\", \"2020/03/07\", \"2020/03/08\", \"2020/03/09\", \"2020/03/10\", \"2020/03/11\", \"2020/03/12\", \"2020/03/13\", \"2020/03/14\", \"2020/03/15\", \"2020/03/16\", \"2020/03/17\", \"2020/03/18\", \"2020/03/19\", \"2020/03/20\", \"2020/03/21\", \"2020/03/22\", \"2020/03/23\", \"2020/03/24\", \"2020/03/25\", \"2020/03/26\", \"2020/03/27\", \"2020/03/28\", \"2020/03/29\", \"2020/03/30\", \"2020/03/31\", \"2020/04/01\", \"2020/04/02\", \"2020/04/03\", \"2020/04/04\", \"2020/04/05\", \"2020/04/06\", \"2020/04/07\", \"2020/04/08\", \"2020/04/09\", \"2020/04/10\", \"2020/04/11\", \"2020/04/12\", \"2020/04/13\", \"2020/04/14\", \"2020/04/15\", \"2020/04/16\", \"2020/04/17\", \"2020/04/18\", \"2020/04/19\", \"2020/04/20\", \"2020/04/21\", \"2020/04/22\", \"2020/04/23\", \"2020/04/24\", \"2020/04/25\", \"2020/04/26\", \"2020/04/27\", \"2020/04/28\", \"2020/04/29\", \"2020/04/30\", \"2020/05/01\", \"2020/05/02\", \"2020/05/03\", \"2020/05/04\", \"2020/05/05\", \"2020/05/06\", \"2020/05/07\"], \"y\": [0.012, 0.015, 0.016, 0.016, 0.017, 0.018000000000000002, 0.022000000000000002, 0.027000000000000003, 0.034, 0.046, 0.062, 0.071, 0.077, 0.092, 0.105, 0.113, 0.11900000000000001, 0.136, 0.14300000000000002, 0.158, 0.17300000000000001, 0.18100000000000002, 0.18600000000000003, 0.213, 0.242, 0.272, 0.35100000000000003, 0.39799999999999996, 0.42100000000000004, 0.447, 0.47100000000000003, 0.502, 0.55, 0.604, 0.665, 0.6920000000000001, 0.7440000000000001, 0.7979999999999999, 0.821, 0.846, 0.8909999999999999, 0.9540000000000001, 1.022, 1.091, 1.158, 1.232, 1.2790000000000001, 1.3430000000000002, 1.403, 1.4709999999999999, 1.5330000000000001, 1.5930000000000002, 1.712, 1.786, 1.869, 1.9680000000000002, 2.057, 2.141, 2.252, 2.335, 2.418, 2.498, null, null]}, {\"connectgaps\": false, \"marker\": {\"color\": \"green\"}, \"mode\": \"markers\", \"name\": \"France\", \"opacity\": 0.6, \"type\": \"scatter\", \"x\": [\"2019/12/31\", \"2020/01/01\", \"2020/01/02\", \"2020/01/03\", \"2020/01/04\", \"2020/01/05\", \"2020/01/06\", \"2020/01/07\", \"2020/01/08\", \"2020/01/09\", \"2020/01/10\", \"2020/01/11\", \"2020/01/12\", \"2020/01/13\", \"2020/01/14\", \"2020/01/15\", \"2020/01/16\", \"2020/01/17\", \"2020/01/18\", \"2020/01/19\", \"2020/01/20\", \"2020/01/21\", \"2020/01/22\", \"2020/01/23\", \"2020/01/24\", \"2020/01/25\", \"2020/01/26\", \"2020/01/27\", \"2020/01/28\", \"2020/01/29\", \"2020/01/30\", \"2020/01/31\", \"2020/02/01\", \"2020/02/02\", \"2020/02/03\", \"2020/02/04\", \"2020/02/05\", \"2020/02/06\", \"2020/02/07\", \"2020/02/08\", \"2020/02/09\", \"2020/02/10\", \"2020/02/11\", \"2020/02/12\", \"2020/02/13\", \"2020/02/14\", \"2020/02/15\", \"2020/02/16\", \"2020/02/17\", \"2020/02/18\", \"2020/02/19\", \"2020/02/20\", \"2020/02/21\", \"2020/02/22\", \"2020/02/23\", \"2020/02/25\", \"2020/02/26\", \"2020/02/27\", \"2020/02/28\", \"2020/02/29\", \"2020/03/01\", \"2020/03/02\", \"2020/03/03\", \"2020/03/04\", \"2020/03/05\", \"2020/03/06\", \"2020/03/07\", \"2020/03/08\", \"2020/03/09\", \"2020/03/10\", \"2020/03/11\", \"2020/03/12\", \"2020/03/13\", \"2020/03/14\", \"2020/03/15\", \"2020/03/16\", \"2020/03/17\", \"2020/03/18\", \"2020/03/19\", \"2020/03/20\", \"2020/03/21\", \"2020/03/22\", \"2020/03/23\", \"2020/03/24\", \"2020/03/25\", \"2020/03/26\", \"2020/03/27\", \"2020/03/28\", \"2020/03/29\", \"2020/03/30\", \"2020/03/31\", \"2020/04/01\", \"2020/04/02\", \"2020/04/03\", \"2020/04/04\", \"2020/04/05\", \"2020/04/06\", \"2020/04/07\", \"2020/04/08\", \"2020/04/09\", \"2020/04/10\", \"2020/04/11\", \"2020/04/12\", \"2020/04/13\", \"2020/04/14\", \"2020/04/15\", \"2020/04/16\", \"2020/04/17\", \"2020/04/18\", \"2020/04/19\", \"2020/04/20\", \"2020/04/21\", \"2020/04/22\", \"2020/04/23\", \"2020/04/24\", \"2020/04/25\", \"2020/04/26\", \"2020/04/27\", \"2020/04/28\", \"2020/04/29\", \"2020/04/30\", \"2020/05/01\", \"2020/05/02\", \"2020/05/03\", \"2020/05/04\", \"2020/05/05\", \"2020/05/06\", \"2020/05/07\"], \"y\": [null, null, null, null, null, null, null, null, null, null, null, null, null, null, null, null, null, null, null, null, null, null, null, null, null, null, null, null, null, null, null, null, null, null, null, null, null, null, null, null, null, null, null, null, null, null, null, null, null, null, null, null, null, null, null, 0.002, 0.006, 0.013000000000000001, 0.02, 0.028999999999999998, 0.038, 0.044000000000000004, 0.055, 0.07400000000000001, 0.09300000000000001, 0.11800000000000001, 0.145, 0.17, 0.19399999999999998, 0.23, null, null, null, null, 0.563, null, null, null, null, null, null, null, null, 1.6480000000000001, null, null, null, null, null, null, 3.4360000000000004, null, null, null, null, null, null, 5.114, null, null, null, null, null, null, 7.103, null, null, null, null, null, null, 9.118, null, null, null, null, null, null, 11.100999999999999, null, null, null, null, null, null, null, null, null]}, {\"connectgaps\": false, \"marker\": {\"color\": \"crimson\"}, \"mode\": \"markers\", \"name\": \"Italy\", \"opacity\": 0.6, \"type\": \"scatter\", \"x\": [\"2019/12/31\", \"2020/01/01\", \"2020/01/02\", \"2020/01/03\", \"2020/01/04\", \"2020/01/05\", \"2020/01/06\", \"2020/01/07\", \"2020/01/08\", \"2020/01/09\", \"2020/01/10\", \"2020/01/11\", \"2020/01/12\", \"2020/01/13\", \"2020/01/14\", \"2020/01/15\", \"2020/01/16\", \"2020/01/17\", \"2020/01/18\", \"2020/01/19\", \"2020/01/20\", \"2020/01/21\", \"2020/01/22\", \"2020/01/23\", \"2020/01/24\", \"2020/01/25\", \"2020/01/26\", \"2020/01/27\", \"2020/01/28\", \"2020/01/29\", \"2020/01/30\", \"2020/01/31\", \"2020/02/01\", \"2020/02/02\", \"2020/02/03\", \"2020/02/04\", \"2020/02/05\", \"2020/02/06\", \"2020/02/07\", \"2020/02/08\", \"2020/02/09\", \"2020/02/10\", \"2020/02/11\", \"2020/02/12\", \"2020/02/13\", \"2020/02/14\", \"2020/02/15\", \"2020/02/16\", \"2020/02/17\", \"2020/02/18\", \"2020/02/19\", \"2020/02/20\", \"2020/02/21\", \"2020/02/22\", \"2020/02/23\", \"2020/02/24\", \"2020/02/25\", \"2020/02/26\", \"2020/02/27\", \"2020/02/28\", \"2020/02/29\", \"2020/03/01\", \"2020/03/02\", \"2020/03/03\", \"2020/03/04\", \"2020/03/05\", \"2020/03/06\", \"2020/03/07\", \"2020/03/08\", \"2020/03/09\", \"2020/03/10\", \"2020/03/11\", \"2020/03/12\", \"2020/03/13\", \"2020/03/14\", \"2020/03/15\", \"2020/03/16\", \"2020/03/17\", \"2020/03/18\", \"2020/03/19\", \"2020/03/20\", \"2020/03/21\", \"2020/03/22\", \"2020/03/23\", \"2020/03/24\", \"2020/03/25\", \"2020/03/26\", \"2020/03/27\", \"2020/03/28\", \"2020/03/29\", \"2020/03/30\", \"2020/03/31\", \"2020/04/01\", \"2020/04/02\", \"2020/04/03\", \"2020/04/04\", \"2020/04/05\", \"2020/04/06\", \"2020/04/07\", \"2020/04/08\", \"2020/04/09\", \"2020/04/10\", \"2020/04/11\", \"2020/04/12\", \"2020/04/13\", \"2020/04/14\", \"2020/04/15\", \"2020/04/16\", \"2020/04/17\", \"2020/04/18\", \"2020/04/19\", \"2020/04/20\", \"2020/04/21\", \"2020/04/22\", \"2020/04/23\", \"2020/04/24\", \"2020/04/25\", \"2020/04/26\", \"2020/04/27\", \"2020/04/28\", \"2020/04/29\", \"2020/04/30\", \"2020/05/01\", \"2020/05/02\", \"2020/05/03\", \"2020/05/04\", \"2020/05/05\", \"2020/05/06\", \"2020/05/07\"], \"y\": [null, null, null, null, null, null, null, null, null, null, null, null, null, null, null, null, null, null, null, null, null, null, null, null, null, null, null, null, null, null, null, null, null, null, null, null, null, null, null, null, null, null, null, null, null, null, null, null, null, null, null, null, null, null, null, 0.07200000000000001, 0.14300000000000002, 0.159, 0.19899999999999998, 0.26, 0.309, 0.349, 0.386, 0.428, 0.493, 0.535, 0.601, 0.696, 0.826, 0.89, 1.005, 1.21, 1.423, 1.6119999999999999, 1.806, 2.066, 2.282, 2.459, 2.738, 3.023, 3.4219999999999997, 3.8569999999999998, 4.274, 4.556, 4.912, 5.3660000000000005, 5.972, 6.518, 7.104, 7.5089999999999995, 7.895, 8.385, 8.955, 9.613, 10.252, 10.87, 11.436, 11.937000000000001, 12.495, 13.349, 14.114, 14.999, 15.935, 16.708, 17.315, 17.758, 18.480999999999998, 19.49, 20.576999999999998, 21.598000000000003, 22.436, 23.122, 23.985, 25.028000000000002, 26.131, 27.164, 28.245, 29.070999999999998, 29.6, 30.546999999999997, 31.603, 32.735, 33.961999999999996, 34.879, 35.622, 36.244, 37.158, 38.221, null]}, {\"connectgaps\": false, \"marker\": {\"color\": \"black\"}, \"mode\": \"markers\", \"name\": \"Spain\", \"opacity\": 0.6, \"type\": \"scatter\", \"x\": [\"2019/12/31\", \"2020/01/01\", \"2020/01/02\", \"2020/01/03\", \"2020/01/04\", \"2020/01/05\", \"2020/01/06\", \"2020/01/07\", \"2020/01/08\", \"2020/01/09\", \"2020/01/10\", \"2020/01/11\", \"2020/01/12\", \"2020/01/13\", \"2020/01/14\", \"2020/01/15\", \"2020/01/16\", \"2020/01/17\", \"2020/01/18\", \"2020/01/19\", \"2020/01/20\", \"2020/01/21\", \"2020/01/22\", \"2020/01/23\", \"2020/01/24\", \"2020/01/25\", \"2020/01/26\", \"2020/01/27\", \"2020/01/28\", \"2020/01/29\", \"2020/01/30\", \"2020/01/31\", \"2020/02/01\", \"2020/02/02\", \"2020/02/03\", \"2020/02/04\", \"2020/02/05\", \"2020/02/06\", \"2020/02/07\", \"2020/02/08\", \"2020/02/09\", \"2020/02/10\", \"2020/02/11\", \"2020/02/12\", \"2020/02/13\", \"2020/02/14\", \"2020/02/15\", \"2020/02/16\", \"2020/02/17\", \"2020/02/18\", \"2020/02/19\", \"2020/02/20\", \"2020/02/21\", \"2020/02/22\", \"2020/02/23\", \"2020/02/24\", \"2020/02/25\", \"2020/02/26\", \"2020/02/27\", \"2020/02/28\", \"2020/02/29\", \"2020/03/01\", \"2020/03/02\", \"2020/03/03\", \"2020/03/04\", \"2020/03/05\", \"2020/03/06\", \"2020/03/07\", \"2020/03/08\", \"2020/03/09\", \"2020/03/10\", \"2020/03/11\", \"2020/03/12\", \"2020/03/13\", \"2020/03/14\", \"2020/03/15\", \"2020/03/16\", \"2020/03/17\", \"2020/03/18\", \"2020/03/19\", \"2020/03/20\", \"2020/03/21\", \"2020/03/22\", \"2020/03/23\", \"2020/03/24\", \"2020/03/25\", \"2020/03/26\", \"2020/03/27\", \"2020/03/28\", \"2020/03/29\", \"2020/03/30\", \"2020/03/31\", \"2020/04/01\", \"2020/04/02\", \"2020/04/03\", \"2020/04/04\", \"2020/04/05\", \"2020/04/06\", \"2020/04/07\", \"2020/04/08\", \"2020/04/09\", \"2020/04/10\", \"2020/04/11\", \"2020/04/12\", \"2020/04/13\", \"2020/04/14\", \"2020/04/15\", \"2020/04/16\", \"2020/04/17\", \"2020/04/18\", \"2020/04/19\", \"2020/04/20\", \"2020/04/21\", \"2020/04/22\", \"2020/04/23\", \"2020/04/24\", \"2020/04/25\", \"2020/04/26\", \"2020/04/27\", \"2020/04/28\", \"2020/04/29\", \"2020/04/30\", \"2020/05/01\", \"2020/05/02\", \"2020/05/03\", \"2020/05/04\", \"2020/05/05\", \"2020/05/06\"], \"y\": [null, null, null, null, null, null, null, null, null, null, null, null, null, null, null, null, null, null, null, null, null, null, null, null, null, null, null, null, null, null, null, null, null, null, null, null, null, null, null, null, null, null, null, null, null, null, null, null, null, null, null, null, null, null, null, null, null, null, null, null, null, null, null, null, null, null, null, null, null, null, null, null, null, null, null, null, null, null, null, null, null, null, null, null, null, null, null, null, null, null, null, null, null, null, null, null, null, null, null, null, null, null, null, null, 19.896, null, null, null, null, null, null, null, null, null, 22.148000000000003, null, null, null, null, null, null, 28.898000000000003, null, null, null, null, null, null]}],\n",
       "                        {\"template\": {\"data\": {\"bar\": [{\"error_x\": {\"color\": \"#2a3f5f\"}, \"error_y\": {\"color\": \"#2a3f5f\"}, \"marker\": {\"line\": {\"color\": \"#E5ECF6\", \"width\": 0.5}}, \"type\": \"bar\"}], \"barpolar\": [{\"marker\": {\"line\": {\"color\": \"#E5ECF6\", \"width\": 0.5}}, \"type\": \"barpolar\"}], \"carpet\": [{\"aaxis\": {\"endlinecolor\": \"#2a3f5f\", \"gridcolor\": \"white\", \"linecolor\": \"white\", \"minorgridcolor\": \"white\", \"startlinecolor\": \"#2a3f5f\"}, \"baxis\": {\"endlinecolor\": \"#2a3f5f\", \"gridcolor\": \"white\", \"linecolor\": \"white\", \"minorgridcolor\": \"white\", \"startlinecolor\": \"#2a3f5f\"}, \"type\": \"carpet\"}], \"choropleth\": [{\"colorbar\": {\"outlinewidth\": 0, \"ticks\": \"\"}, \"type\": \"choropleth\"}], \"contour\": [{\"colorbar\": {\"outlinewidth\": 0, \"ticks\": \"\"}, \"colorscale\": [[0.0, \"#0d0887\"], [0.1111111111111111, \"#46039f\"], [0.2222222222222222, \"#7201a8\"], [0.3333333333333333, \"#9c179e\"], [0.4444444444444444, \"#bd3786\"], [0.5555555555555556, \"#d8576b\"], [0.6666666666666666, \"#ed7953\"], [0.7777777777777778, \"#fb9f3a\"], [0.8888888888888888, \"#fdca26\"], [1.0, \"#f0f921\"]], \"type\": \"contour\"}], \"contourcarpet\": [{\"colorbar\": {\"outlinewidth\": 0, \"ticks\": \"\"}, \"type\": \"contourcarpet\"}], \"heatmap\": [{\"colorbar\": {\"outlinewidth\": 0, \"ticks\": \"\"}, \"colorscale\": [[0.0, \"#0d0887\"], [0.1111111111111111, \"#46039f\"], [0.2222222222222222, \"#7201a8\"], [0.3333333333333333, \"#9c179e\"], [0.4444444444444444, \"#bd3786\"], [0.5555555555555556, \"#d8576b\"], [0.6666666666666666, \"#ed7953\"], [0.7777777777777778, \"#fb9f3a\"], [0.8888888888888888, \"#fdca26\"], [1.0, \"#f0f921\"]], \"type\": \"heatmap\"}], \"heatmapgl\": [{\"colorbar\": {\"outlinewidth\": 0, \"ticks\": \"\"}, \"colorscale\": [[0.0, \"#0d0887\"], [0.1111111111111111, \"#46039f\"], [0.2222222222222222, \"#7201a8\"], [0.3333333333333333, \"#9c179e\"], [0.4444444444444444, \"#bd3786\"], [0.5555555555555556, \"#d8576b\"], [0.6666666666666666, \"#ed7953\"], [0.7777777777777778, \"#fb9f3a\"], [0.8888888888888888, \"#fdca26\"], [1.0, \"#f0f921\"]], \"type\": \"heatmapgl\"}], \"histogram\": [{\"marker\": {\"colorbar\": {\"outlinewidth\": 0, \"ticks\": \"\"}}, \"type\": \"histogram\"}], \"histogram2d\": [{\"colorbar\": {\"outlinewidth\": 0, \"ticks\": \"\"}, \"colorscale\": [[0.0, \"#0d0887\"], [0.1111111111111111, \"#46039f\"], [0.2222222222222222, \"#7201a8\"], [0.3333333333333333, \"#9c179e\"], [0.4444444444444444, \"#bd3786\"], [0.5555555555555556, \"#d8576b\"], [0.6666666666666666, \"#ed7953\"], [0.7777777777777778, \"#fb9f3a\"], [0.8888888888888888, \"#fdca26\"], [1.0, \"#f0f921\"]], \"type\": \"histogram2d\"}], \"histogram2dcontour\": [{\"colorbar\": {\"outlinewidth\": 0, \"ticks\": \"\"}, \"colorscale\": [[0.0, \"#0d0887\"], [0.1111111111111111, \"#46039f\"], [0.2222222222222222, \"#7201a8\"], [0.3333333333333333, \"#9c179e\"], [0.4444444444444444, \"#bd3786\"], [0.5555555555555556, \"#d8576b\"], [0.6666666666666666, \"#ed7953\"], [0.7777777777777778, \"#fb9f3a\"], [0.8888888888888888, \"#fdca26\"], [1.0, \"#f0f921\"]], \"type\": \"histogram2dcontour\"}], \"mesh3d\": [{\"colorbar\": {\"outlinewidth\": 0, \"ticks\": \"\"}, \"type\": \"mesh3d\"}], \"parcoords\": [{\"line\": {\"colorbar\": {\"outlinewidth\": 0, \"ticks\": \"\"}}, \"type\": \"parcoords\"}], \"pie\": [{\"automargin\": true, \"type\": \"pie\"}], \"scatter\": [{\"marker\": {\"colorbar\": {\"outlinewidth\": 0, \"ticks\": \"\"}}, \"type\": \"scatter\"}], \"scatter3d\": [{\"line\": {\"colorbar\": {\"outlinewidth\": 0, \"ticks\": \"\"}}, \"marker\": {\"colorbar\": {\"outlinewidth\": 0, \"ticks\": \"\"}}, \"type\": \"scatter3d\"}], \"scattercarpet\": [{\"marker\": {\"colorbar\": {\"outlinewidth\": 0, \"ticks\": \"\"}}, \"type\": \"scattercarpet\"}], \"scattergeo\": [{\"marker\": {\"colorbar\": {\"outlinewidth\": 0, \"ticks\": \"\"}}, \"type\": \"scattergeo\"}], \"scattergl\": [{\"marker\": {\"colorbar\": {\"outlinewidth\": 0, \"ticks\": \"\"}}, \"type\": \"scattergl\"}], \"scattermapbox\": [{\"marker\": {\"colorbar\": {\"outlinewidth\": 0, \"ticks\": \"\"}}, \"type\": \"scattermapbox\"}], \"scatterpolar\": [{\"marker\": {\"colorbar\": {\"outlinewidth\": 0, \"ticks\": \"\"}}, \"type\": \"scatterpolar\"}], \"scatterpolargl\": [{\"marker\": {\"colorbar\": {\"outlinewidth\": 0, \"ticks\": \"\"}}, \"type\": \"scatterpolargl\"}], \"scatterternary\": [{\"marker\": {\"colorbar\": {\"outlinewidth\": 0, \"ticks\": \"\"}}, \"type\": \"scatterternary\"}], \"surface\": [{\"colorbar\": {\"outlinewidth\": 0, \"ticks\": \"\"}, \"colorscale\": [[0.0, \"#0d0887\"], [0.1111111111111111, \"#46039f\"], [0.2222222222222222, \"#7201a8\"], [0.3333333333333333, \"#9c179e\"], [0.4444444444444444, \"#bd3786\"], [0.5555555555555556, \"#d8576b\"], [0.6666666666666666, \"#ed7953\"], [0.7777777777777778, \"#fb9f3a\"], [0.8888888888888888, \"#fdca26\"], [1.0, \"#f0f921\"]], \"type\": \"surface\"}], \"table\": [{\"cells\": {\"fill\": {\"color\": \"#EBF0F8\"}, \"line\": {\"color\": \"white\"}}, \"header\": {\"fill\": {\"color\": \"#C8D4E3\"}, \"line\": {\"color\": \"white\"}}, \"type\": \"table\"}]}, \"layout\": {\"annotationdefaults\": {\"arrowcolor\": \"#2a3f5f\", \"arrowhead\": 0, \"arrowwidth\": 1}, \"coloraxis\": {\"colorbar\": {\"outlinewidth\": 0, \"ticks\": \"\"}}, \"colorscale\": {\"diverging\": [[0, \"#8e0152\"], [0.1, \"#c51b7d\"], [0.2, \"#de77ae\"], [0.3, \"#f1b6da\"], [0.4, \"#fde0ef\"], [0.5, \"#f7f7f7\"], [0.6, \"#e6f5d0\"], [0.7, \"#b8e186\"], [0.8, \"#7fbc41\"], [0.9, \"#4d9221\"], [1, \"#276419\"]], \"sequential\": [[0.0, \"#0d0887\"], [0.1111111111111111, \"#46039f\"], [0.2222222222222222, \"#7201a8\"], [0.3333333333333333, \"#9c179e\"], [0.4444444444444444, \"#bd3786\"], [0.5555555555555556, \"#d8576b\"], [0.6666666666666666, \"#ed7953\"], [0.7777777777777778, \"#fb9f3a\"], [0.8888888888888888, \"#fdca26\"], [1.0, \"#f0f921\"]], \"sequentialminus\": [[0.0, \"#0d0887\"], [0.1111111111111111, \"#46039f\"], [0.2222222222222222, \"#7201a8\"], [0.3333333333333333, \"#9c179e\"], [0.4444444444444444, \"#bd3786\"], [0.5555555555555556, \"#d8576b\"], [0.6666666666666666, \"#ed7953\"], [0.7777777777777778, \"#fb9f3a\"], [0.8888888888888888, \"#fdca26\"], [1.0, \"#f0f921\"]]}, \"colorway\": [\"#636efa\", \"#EF553B\", \"#00cc96\", \"#ab63fa\", \"#FFA15A\", \"#19d3f3\", \"#FF6692\", \"#B6E880\", \"#FF97FF\", \"#FECB52\"], \"font\": {\"color\": \"#2a3f5f\"}, \"geo\": {\"bgcolor\": \"white\", \"lakecolor\": \"white\", \"landcolor\": \"#E5ECF6\", \"showlakes\": true, \"showland\": true, \"subunitcolor\": \"white\"}, \"hoverlabel\": {\"align\": \"left\"}, \"hovermode\": \"closest\", \"mapbox\": {\"style\": \"light\"}, \"paper_bgcolor\": \"white\", \"plot_bgcolor\": \"#E5ECF6\", \"polar\": {\"angularaxis\": {\"gridcolor\": \"white\", \"linecolor\": \"white\", \"ticks\": \"\"}, \"bgcolor\": \"#E5ECF6\", \"radialaxis\": {\"gridcolor\": \"white\", \"linecolor\": \"white\", \"ticks\": \"\"}}, \"scene\": {\"xaxis\": {\"backgroundcolor\": \"#E5ECF6\", \"gridcolor\": \"white\", \"gridwidth\": 2, \"linecolor\": \"white\", \"showbackground\": true, \"ticks\": \"\", \"zerolinecolor\": \"white\"}, \"yaxis\": {\"backgroundcolor\": \"#E5ECF6\", \"gridcolor\": \"white\", \"gridwidth\": 2, \"linecolor\": \"white\", \"showbackground\": true, \"ticks\": \"\", \"zerolinecolor\": \"white\"}, \"zaxis\": {\"backgroundcolor\": \"#E5ECF6\", \"gridcolor\": \"white\", \"gridwidth\": 2, \"linecolor\": \"white\", \"showbackground\": true, \"ticks\": \"\", \"zerolinecolor\": \"white\"}}, \"shapedefaults\": {\"line\": {\"color\": \"#2a3f5f\"}}, \"ternary\": {\"aaxis\": {\"gridcolor\": \"white\", \"linecolor\": \"white\", \"ticks\": \"\"}, \"baxis\": {\"gridcolor\": \"white\", \"linecolor\": \"white\", \"ticks\": \"\"}, \"bgcolor\": \"#E5ECF6\", \"caxis\": {\"gridcolor\": \"white\", \"linecolor\": \"white\", \"ticks\": \"\"}}, \"title\": {\"x\": 0.05}, \"xaxis\": {\"automargin\": true, \"gridcolor\": \"white\", \"linecolor\": \"white\", \"ticks\": \"\", \"title\": {\"standoff\": 15}, \"zerolinecolor\": \"white\", \"zerolinewidth\": 2}, \"yaxis\": {\"automargin\": true, \"gridcolor\": \"white\", \"linecolor\": \"white\", \"ticks\": \"\", \"title\": {\"standoff\": 15}, \"zerolinecolor\": \"white\", \"zerolinewidth\": 2}}}, \"title\": {\"text\": \"total_tests_per_thousand\"}},\n",
       "                        {\"responsive\": true}\n",
       "                    ).then(function(){\n",
       "                            \n",
       "var gd = document.getElementById('2737e3bf-af5e-4888-b173-867c5af36bc7');\n",
       "var x = new MutationObserver(function (mutations, observer) {{\n",
       "        var display = window.getComputedStyle(gd).display;\n",
       "        if (!display || display === 'none') {{\n",
       "            console.log([gd, 'removed!']);\n",
       "            Plotly.purge(gd);\n",
       "            observer.disconnect();\n",
       "        }}\n",
       "}});\n",
       "\n",
       "// Listen for the removal of the full notebook cells\n",
       "var notebookContainer = gd.closest('#notebook-container');\n",
       "if (notebookContainer) {{\n",
       "    x.observe(notebookContainer, {childList: true});\n",
       "}}\n",
       "\n",
       "// Listen for the clearing of the current output cell\n",
       "var outputEl = gd.closest('.output');\n",
       "if (outputEl) {{\n",
       "    x.observe(outputEl, {childList: true});\n",
       "}}\n",
       "\n",
       "                        })\n",
       "                };\n",
       "                });\n",
       "            </script>\n",
       "        </div>"
      ]
     },
     "metadata": {},
     "output_type": "display_data"
    }
   ],
   "source": [
    "# display comparison\n",
    "import plotly.graph_objects as go\n",
    "import plotly.express as px\n",
    "import random\n",
    "\n",
    "comparison={\n",
    "    \"countries\":[ \"Chile\",\"Peru\",\"Colombia\",\"France\", \"Italy\", \"Spain\"]\n",
    "}\n",
    "#\"Panama\", \"Colombia\", \"France\", \"Argentina\", \"Italy\"\n",
    "ls_colors=['black', 'blue', 'red', 'green','crimson']\n",
    "\n",
    "ls_variables = ['total_deaths_per_million', 'total_cases_per_million', 'new_cases_per_million', 'new_deaths_per_million', 'total_tests_per_thousand', 'new_tests_per_thousand']\n",
    "\n",
    "variable_to_visualize = 'total_tests_per_thousand'\n",
    "ls_scatters = []\n",
    "fig = go.Figure()\n",
    "i =0\n",
    "for c in comparison[\"countries\"]:\n",
    "\n",
    "    df_subset = df_covid[(df_covid['location']==c) & (df_covid[variable_to_visualize]!= 0)]\n",
    "    \n",
    "    fig.add_trace(go.Scatter(x=df_subset['date_2'], y=df_subset[variable_to_visualize],\n",
    "                            marker_color=ls_colors[i],\n",
    "                            opacity=0.6,\n",
    "                            mode=\"markers\",\n",
    "                            name= c , connectgaps = False))\n",
    "    i = i+1\n",
    "    if i>=len(ls_colors):\n",
    "        i=0\n",
    "\n",
    "    \n",
    "fig.update_layout (title = variable_to_visualize)\n",
    "fig.show()"
   ]
  },
  {
   "cell_type": "code",
   "execution_count": null,
   "metadata": {},
   "outputs": [],
   "source": []
  }
 ],
 "metadata": {
  "kernelspec": {
   "display_name": "ds01",
   "language": "python",
   "name": "ds01"
  },
  "language_info": {
   "codemirror_mode": {
    "name": "ipython",
    "version": 3
   },
   "file_extension": ".py",
   "mimetype": "text/x-python",
   "name": "python",
   "nbconvert_exporter": "python",
   "pygments_lexer": "ipython3",
   "version": "3.7.3"
  }
 },
 "nbformat": 4,
 "nbformat_minor": 2
}
